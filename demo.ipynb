{
 "cells": [
  {
   "cell_type": "markdown",
   "metadata": {},
   "source": [
    "    Author: Mikael Koli\n",
    "    email: koli.mikael@gmail.com\n",
    "    Date: 01.12.2018\n",
    "    State: In Development"
   ]
  },
  {
   "cell_type": "markdown",
   "metadata": {},
   "source": [
    "# TITLE"
   ]
  },
  {
   "cell_type": "markdown",
   "metadata": {},
   "source": [
    "This is a template for Jupyter Notebooks."
   ]
  },
  {
   "cell_type": "markdown",
   "metadata": {},
   "source": [
    "## Navigation:\n",
    "* [Setup](#Setup)\n",
    "  * [Imports](#Imports)\n",
    "    * [Standard Library](#Standard_Library)\n",
    "    * [Custom Imports](#Custom_Imports)\n",
    "    * [Third Party Imports](#Third_Party_Imports)\n",
    "  * [Versions](#Versions)\n",
    "  * [Settings](#Settings)\n",
    "* [First Section](#H1)"
   ]
  },
  {
   "cell_type": "markdown",
   "metadata": {},
   "source": [
    "# Setup"
   ]
  },
  {
   "cell_type": "code",
   "execution_count": 2,
   "metadata": {
    "scrolled": true
   },
   "outputs": [
    {
     "name": "stdout",
     "output_type": "stream",
     "text": [
      "Python version: 3.6.6\n",
      "\n",
      "Time of Run: \n",
      "    Year:    2019\n",
      "    Month:   3\n",
      "    Day:     21\n",
      "    Time:    22:10:17.681263\n",
      "\n"
     ]
    }
   ],
   "source": [
    "import datetime\n",
    "import platform\n",
    "\n",
    "print(f'Python version: {platform.python_version()}')\n",
    "print(f'''\n",
    "Time of Run: \n",
    "    Year:    {datetime.datetime.now().year}\n",
    "    Month:   {datetime.datetime.now().month}\n",
    "    Day:     {datetime.datetime.now().day}\n",
    "    Time:    {datetime.datetime.now().time()}\n",
    "''')"
   ]
  },
  {
   "cell_type": "markdown",
   "metadata": {},
   "source": [
    "## Imports<a class=\"anchor\" id=\"H0_imports\"></a>"
   ]
  },
  {
   "cell_type": "code",
   "execution_count": 3,
   "metadata": {},
   "outputs": [],
   "source": [
    "from pathnet import PathNet"
   ]
  },
  {
   "cell_type": "code",
   "execution_count": 4,
   "metadata": {},
   "outputs": [],
   "source": [
    "# For displaying results in notebook\n",
    "from bokeh.io import output_notebook"
   ]
  },
  {
   "cell_type": "markdown",
   "metadata": {},
   "source": [
    "## Settings"
   ]
  },
  {
   "cell_type": "code",
   "execution_count": 5,
   "metadata": {},
   "outputs": [
    {
     "data": {
      "text/html": [
       "\n",
       "    <div class=\"bk-root\">\n",
       "        <a href=\"https://bokeh.pydata.org\" target=\"_blank\" class=\"bk-logo bk-logo-small bk-logo-notebook\"></a>\n",
       "        <span id=\"c20ba888-87dd-4657-80c0-de7279717372\">Loading BokehJS ...</span>\n",
       "    </div>"
      ]
     },
     "metadata": {},
     "output_type": "display_data"
    },
    {
     "data": {
      "application/javascript": [
       "\n",
       "(function(root) {\n",
       "  function now() {\n",
       "    return new Date();\n",
       "  }\n",
       "\n",
       "  var force = true;\n",
       "\n",
       "  if (typeof (root._bokeh_onload_callbacks) === \"undefined\" || force === true) {\n",
       "    root._bokeh_onload_callbacks = [];\n",
       "    root._bokeh_is_loading = undefined;\n",
       "  }\n",
       "\n",
       "  var JS_MIME_TYPE = 'application/javascript';\n",
       "  var HTML_MIME_TYPE = 'text/html';\n",
       "  var EXEC_MIME_TYPE = 'application/vnd.bokehjs_exec.v0+json';\n",
       "  var CLASS_NAME = 'output_bokeh rendered_html';\n",
       "\n",
       "  /**\n",
       "   * Render data to the DOM node\n",
       "   */\n",
       "  function render(props, node) {\n",
       "    var script = document.createElement(\"script\");\n",
       "    node.appendChild(script);\n",
       "  }\n",
       "\n",
       "  /**\n",
       "   * Handle when an output is cleared or removed\n",
       "   */\n",
       "  function handleClearOutput(event, handle) {\n",
       "    var cell = handle.cell;\n",
       "\n",
       "    var id = cell.output_area._bokeh_element_id;\n",
       "    var server_id = cell.output_area._bokeh_server_id;\n",
       "    // Clean up Bokeh references\n",
       "    if (id != null && id in Bokeh.index) {\n",
       "      Bokeh.index[id].model.document.clear();\n",
       "      delete Bokeh.index[id];\n",
       "    }\n",
       "\n",
       "    if (server_id !== undefined) {\n",
       "      // Clean up Bokeh references\n",
       "      var cmd = \"from bokeh.io.state import curstate; print(curstate().uuid_to_server['\" + server_id + \"'].get_sessions()[0].document.roots[0]._id)\";\n",
       "      cell.notebook.kernel.execute(cmd, {\n",
       "        iopub: {\n",
       "          output: function(msg) {\n",
       "            var id = msg.content.text.trim();\n",
       "            if (id in Bokeh.index) {\n",
       "              Bokeh.index[id].model.document.clear();\n",
       "              delete Bokeh.index[id];\n",
       "            }\n",
       "          }\n",
       "        }\n",
       "      });\n",
       "      // Destroy server and session\n",
       "      var cmd = \"import bokeh.io.notebook as ion; ion.destroy_server('\" + server_id + \"')\";\n",
       "      cell.notebook.kernel.execute(cmd);\n",
       "    }\n",
       "  }\n",
       "\n",
       "  /**\n",
       "   * Handle when a new output is added\n",
       "   */\n",
       "  function handleAddOutput(event, handle) {\n",
       "    var output_area = handle.output_area;\n",
       "    var output = handle.output;\n",
       "\n",
       "    // limit handleAddOutput to display_data with EXEC_MIME_TYPE content only\n",
       "    if ((output.output_type != \"display_data\") || (!output.data.hasOwnProperty(EXEC_MIME_TYPE))) {\n",
       "      return\n",
       "    }\n",
       "\n",
       "    var toinsert = output_area.element.find(\".\" + CLASS_NAME.split(' ')[0]);\n",
       "\n",
       "    if (output.metadata[EXEC_MIME_TYPE][\"id\"] !== undefined) {\n",
       "      toinsert[toinsert.length - 1].firstChild.textContent = output.data[JS_MIME_TYPE];\n",
       "      // store reference to embed id on output_area\n",
       "      output_area._bokeh_element_id = output.metadata[EXEC_MIME_TYPE][\"id\"];\n",
       "    }\n",
       "    if (output.metadata[EXEC_MIME_TYPE][\"server_id\"] !== undefined) {\n",
       "      var bk_div = document.createElement(\"div\");\n",
       "      bk_div.innerHTML = output.data[HTML_MIME_TYPE];\n",
       "      var script_attrs = bk_div.children[0].attributes;\n",
       "      for (var i = 0; i < script_attrs.length; i++) {\n",
       "        toinsert[toinsert.length - 1].firstChild.setAttribute(script_attrs[i].name, script_attrs[i].value);\n",
       "      }\n",
       "      // store reference to server id on output_area\n",
       "      output_area._bokeh_server_id = output.metadata[EXEC_MIME_TYPE][\"server_id\"];\n",
       "    }\n",
       "  }\n",
       "\n",
       "  function register_renderer(events, OutputArea) {\n",
       "\n",
       "    function append_mime(data, metadata, element) {\n",
       "      // create a DOM node to render to\n",
       "      var toinsert = this.create_output_subarea(\n",
       "        metadata,\n",
       "        CLASS_NAME,\n",
       "        EXEC_MIME_TYPE\n",
       "      );\n",
       "      this.keyboard_manager.register_events(toinsert);\n",
       "      // Render to node\n",
       "      var props = {data: data, metadata: metadata[EXEC_MIME_TYPE]};\n",
       "      render(props, toinsert[toinsert.length - 1]);\n",
       "      element.append(toinsert);\n",
       "      return toinsert\n",
       "    }\n",
       "\n",
       "    /* Handle when an output is cleared or removed */\n",
       "    events.on('clear_output.CodeCell', handleClearOutput);\n",
       "    events.on('delete.Cell', handleClearOutput);\n",
       "\n",
       "    /* Handle when a new output is added */\n",
       "    events.on('output_added.OutputArea', handleAddOutput);\n",
       "\n",
       "    /**\n",
       "     * Register the mime type and append_mime function with output_area\n",
       "     */\n",
       "    OutputArea.prototype.register_mime_type(EXEC_MIME_TYPE, append_mime, {\n",
       "      /* Is output safe? */\n",
       "      safe: true,\n",
       "      /* Index of renderer in `output_area.display_order` */\n",
       "      index: 0\n",
       "    });\n",
       "  }\n",
       "\n",
       "  // register the mime type if in Jupyter Notebook environment and previously unregistered\n",
       "  if (root.Jupyter !== undefined) {\n",
       "    var events = require('base/js/events');\n",
       "    var OutputArea = require('notebook/js/outputarea').OutputArea;\n",
       "\n",
       "    if (OutputArea.prototype.mime_types().indexOf(EXEC_MIME_TYPE) == -1) {\n",
       "      register_renderer(events, OutputArea);\n",
       "    }\n",
       "  }\n",
       "\n",
       "  \n",
       "  if (typeof (root._bokeh_timeout) === \"undefined\" || force === true) {\n",
       "    root._bokeh_timeout = Date.now() + 5000;\n",
       "    root._bokeh_failed_load = false;\n",
       "  }\n",
       "\n",
       "  var NB_LOAD_WARNING = {'data': {'text/html':\n",
       "     \"<div style='background-color: #fdd'>\\n\"+\n",
       "     \"<p>\\n\"+\n",
       "     \"BokehJS does not appear to have successfully loaded. If loading BokehJS from CDN, this \\n\"+\n",
       "     \"may be due to a slow or bad network connection. Possible fixes:\\n\"+\n",
       "     \"</p>\\n\"+\n",
       "     \"<ul>\\n\"+\n",
       "     \"<li>re-rerun `output_notebook()` to attempt to load from CDN again, or</li>\\n\"+\n",
       "     \"<li>use INLINE resources instead, as so:</li>\\n\"+\n",
       "     \"</ul>\\n\"+\n",
       "     \"<code>\\n\"+\n",
       "     \"from bokeh.resources import INLINE\\n\"+\n",
       "     \"output_notebook(resources=INLINE)\\n\"+\n",
       "     \"</code>\\n\"+\n",
       "     \"</div>\"}};\n",
       "\n",
       "  function display_loaded() {\n",
       "    var el = document.getElementById(\"c20ba888-87dd-4657-80c0-de7279717372\");\n",
       "    if (el != null) {\n",
       "      el.textContent = \"BokehJS is loading...\";\n",
       "    }\n",
       "    if (root.Bokeh !== undefined) {\n",
       "      if (el != null) {\n",
       "        el.textContent = \"BokehJS \" + root.Bokeh.version + \" successfully loaded.\";\n",
       "      }\n",
       "    } else if (Date.now() < root._bokeh_timeout) {\n",
       "      setTimeout(display_loaded, 100)\n",
       "    }\n",
       "  }\n",
       "\n",
       "\n",
       "  function run_callbacks() {\n",
       "    try {\n",
       "      root._bokeh_onload_callbacks.forEach(function(callback) { callback() });\n",
       "    }\n",
       "    finally {\n",
       "      delete root._bokeh_onload_callbacks\n",
       "    }\n",
       "    console.info(\"Bokeh: all callbacks have finished\");\n",
       "  }\n",
       "\n",
       "  function load_libs(js_urls, callback) {\n",
       "    root._bokeh_onload_callbacks.push(callback);\n",
       "    if (root._bokeh_is_loading > 0) {\n",
       "      console.log(\"Bokeh: BokehJS is being loaded, scheduling callback at\", now());\n",
       "      return null;\n",
       "    }\n",
       "    if (js_urls == null || js_urls.length === 0) {\n",
       "      run_callbacks();\n",
       "      return null;\n",
       "    }\n",
       "    console.log(\"Bokeh: BokehJS not loaded, scheduling load and callback at\", now());\n",
       "    root._bokeh_is_loading = js_urls.length;\n",
       "    for (var i = 0; i < js_urls.length; i++) {\n",
       "      var url = js_urls[i];\n",
       "      var s = document.createElement('script');\n",
       "      s.src = url;\n",
       "      s.async = false;\n",
       "      s.onreadystatechange = s.onload = function() {\n",
       "        root._bokeh_is_loading--;\n",
       "        if (root._bokeh_is_loading === 0) {\n",
       "          console.log(\"Bokeh: all BokehJS libraries loaded\");\n",
       "          run_callbacks()\n",
       "        }\n",
       "      };\n",
       "      s.onerror = function() {\n",
       "        console.warn(\"failed to load library \" + url);\n",
       "      };\n",
       "      console.log(\"Bokeh: injecting script tag for BokehJS library: \", url);\n",
       "      document.getElementsByTagName(\"head\")[0].appendChild(s);\n",
       "    }\n",
       "  };var element = document.getElementById(\"c20ba888-87dd-4657-80c0-de7279717372\");\n",
       "  if (element == null) {\n",
       "    console.log(\"Bokeh: ERROR: autoload.js configured with elementid 'c20ba888-87dd-4657-80c0-de7279717372' but no matching script tag was found. \")\n",
       "    return false;\n",
       "  }\n",
       "\n",
       "  var js_urls = [\"https://cdn.pydata.org/bokeh/release/bokeh-0.13.0.min.js\", \"https://cdn.pydata.org/bokeh/release/bokeh-widgets-0.13.0.min.js\", \"https://cdn.pydata.org/bokeh/release/bokeh-tables-0.13.0.min.js\", \"https://cdn.pydata.org/bokeh/release/bokeh-gl-0.13.0.min.js\"];\n",
       "\n",
       "  var inline_js = [\n",
       "    function(Bokeh) {\n",
       "      Bokeh.set_log_level(\"info\");\n",
       "    },\n",
       "    \n",
       "    function(Bokeh) {\n",
       "      \n",
       "    },\n",
       "    function(Bokeh) {\n",
       "      console.log(\"Bokeh: injecting CSS: https://cdn.pydata.org/bokeh/release/bokeh-0.13.0.min.css\");\n",
       "      Bokeh.embed.inject_css(\"https://cdn.pydata.org/bokeh/release/bokeh-0.13.0.min.css\");\n",
       "      console.log(\"Bokeh: injecting CSS: https://cdn.pydata.org/bokeh/release/bokeh-widgets-0.13.0.min.css\");\n",
       "      Bokeh.embed.inject_css(\"https://cdn.pydata.org/bokeh/release/bokeh-widgets-0.13.0.min.css\");\n",
       "      console.log(\"Bokeh: injecting CSS: https://cdn.pydata.org/bokeh/release/bokeh-tables-0.13.0.min.css\");\n",
       "      Bokeh.embed.inject_css(\"https://cdn.pydata.org/bokeh/release/bokeh-tables-0.13.0.min.css\");\n",
       "    }\n",
       "  ];\n",
       "\n",
       "  function run_inline_js() {\n",
       "    \n",
       "    if ((root.Bokeh !== undefined) || (force === true)) {\n",
       "      for (var i = 0; i < inline_js.length; i++) {\n",
       "        inline_js[i].call(root, root.Bokeh);\n",
       "      }if (force === true) {\n",
       "        display_loaded();\n",
       "      }} else if (Date.now() < root._bokeh_timeout) {\n",
       "      setTimeout(run_inline_js, 100);\n",
       "    } else if (!root._bokeh_failed_load) {\n",
       "      console.log(\"Bokeh: BokehJS failed to load within specified timeout.\");\n",
       "      root._bokeh_failed_load = true;\n",
       "    } else if (force !== true) {\n",
       "      var cell = $(document.getElementById(\"c20ba888-87dd-4657-80c0-de7279717372\")).parents('.cell').data().cell;\n",
       "      cell.output_area.append_execute_result(NB_LOAD_WARNING)\n",
       "    }\n",
       "\n",
       "  }\n",
       "\n",
       "  if (root._bokeh_is_loading === 0) {\n",
       "    console.log(\"Bokeh: BokehJS loaded, going straight to plotting\");\n",
       "    run_inline_js();\n",
       "  } else {\n",
       "    load_libs(js_urls, function() {\n",
       "      console.log(\"Bokeh: BokehJS plotting callback run at\", now());\n",
       "      run_inline_js();\n",
       "    });\n",
       "  }\n",
       "}(window));"
      ],
      "application/vnd.bokehjs_load.v0+json": "\n(function(root) {\n  function now() {\n    return new Date();\n  }\n\n  var force = true;\n\n  if (typeof (root._bokeh_onload_callbacks) === \"undefined\" || force === true) {\n    root._bokeh_onload_callbacks = [];\n    root._bokeh_is_loading = undefined;\n  }\n\n  \n\n  \n  if (typeof (root._bokeh_timeout) === \"undefined\" || force === true) {\n    root._bokeh_timeout = Date.now() + 5000;\n    root._bokeh_failed_load = false;\n  }\n\n  var NB_LOAD_WARNING = {'data': {'text/html':\n     \"<div style='background-color: #fdd'>\\n\"+\n     \"<p>\\n\"+\n     \"BokehJS does not appear to have successfully loaded. If loading BokehJS from CDN, this \\n\"+\n     \"may be due to a slow or bad network connection. Possible fixes:\\n\"+\n     \"</p>\\n\"+\n     \"<ul>\\n\"+\n     \"<li>re-rerun `output_notebook()` to attempt to load from CDN again, or</li>\\n\"+\n     \"<li>use INLINE resources instead, as so:</li>\\n\"+\n     \"</ul>\\n\"+\n     \"<code>\\n\"+\n     \"from bokeh.resources import INLINE\\n\"+\n     \"output_notebook(resources=INLINE)\\n\"+\n     \"</code>\\n\"+\n     \"</div>\"}};\n\n  function display_loaded() {\n    var el = document.getElementById(\"c20ba888-87dd-4657-80c0-de7279717372\");\n    if (el != null) {\n      el.textContent = \"BokehJS is loading...\";\n    }\n    if (root.Bokeh !== undefined) {\n      if (el != null) {\n        el.textContent = \"BokehJS \" + root.Bokeh.version + \" successfully loaded.\";\n      }\n    } else if (Date.now() < root._bokeh_timeout) {\n      setTimeout(display_loaded, 100)\n    }\n  }\n\n\n  function run_callbacks() {\n    try {\n      root._bokeh_onload_callbacks.forEach(function(callback) { callback() });\n    }\n    finally {\n      delete root._bokeh_onload_callbacks\n    }\n    console.info(\"Bokeh: all callbacks have finished\");\n  }\n\n  function load_libs(js_urls, callback) {\n    root._bokeh_onload_callbacks.push(callback);\n    if (root._bokeh_is_loading > 0) {\n      console.log(\"Bokeh: BokehJS is being loaded, scheduling callback at\", now());\n      return null;\n    }\n    if (js_urls == null || js_urls.length === 0) {\n      run_callbacks();\n      return null;\n    }\n    console.log(\"Bokeh: BokehJS not loaded, scheduling load and callback at\", now());\n    root._bokeh_is_loading = js_urls.length;\n    for (var i = 0; i < js_urls.length; i++) {\n      var url = js_urls[i];\n      var s = document.createElement('script');\n      s.src = url;\n      s.async = false;\n      s.onreadystatechange = s.onload = function() {\n        root._bokeh_is_loading--;\n        if (root._bokeh_is_loading === 0) {\n          console.log(\"Bokeh: all BokehJS libraries loaded\");\n          run_callbacks()\n        }\n      };\n      s.onerror = function() {\n        console.warn(\"failed to load library \" + url);\n      };\n      console.log(\"Bokeh: injecting script tag for BokehJS library: \", url);\n      document.getElementsByTagName(\"head\")[0].appendChild(s);\n    }\n  };var element = document.getElementById(\"c20ba888-87dd-4657-80c0-de7279717372\");\n  if (element == null) {\n    console.log(\"Bokeh: ERROR: autoload.js configured with elementid 'c20ba888-87dd-4657-80c0-de7279717372' but no matching script tag was found. \")\n    return false;\n  }\n\n  var js_urls = [\"https://cdn.pydata.org/bokeh/release/bokeh-0.13.0.min.js\", \"https://cdn.pydata.org/bokeh/release/bokeh-widgets-0.13.0.min.js\", \"https://cdn.pydata.org/bokeh/release/bokeh-tables-0.13.0.min.js\", \"https://cdn.pydata.org/bokeh/release/bokeh-gl-0.13.0.min.js\"];\n\n  var inline_js = [\n    function(Bokeh) {\n      Bokeh.set_log_level(\"info\");\n    },\n    \n    function(Bokeh) {\n      \n    },\n    function(Bokeh) {\n      console.log(\"Bokeh: injecting CSS: https://cdn.pydata.org/bokeh/release/bokeh-0.13.0.min.css\");\n      Bokeh.embed.inject_css(\"https://cdn.pydata.org/bokeh/release/bokeh-0.13.0.min.css\");\n      console.log(\"Bokeh: injecting CSS: https://cdn.pydata.org/bokeh/release/bokeh-widgets-0.13.0.min.css\");\n      Bokeh.embed.inject_css(\"https://cdn.pydata.org/bokeh/release/bokeh-widgets-0.13.0.min.css\");\n      console.log(\"Bokeh: injecting CSS: https://cdn.pydata.org/bokeh/release/bokeh-tables-0.13.0.min.css\");\n      Bokeh.embed.inject_css(\"https://cdn.pydata.org/bokeh/release/bokeh-tables-0.13.0.min.css\");\n    }\n  ];\n\n  function run_inline_js() {\n    \n    if ((root.Bokeh !== undefined) || (force === true)) {\n      for (var i = 0; i < inline_js.length; i++) {\n        inline_js[i].call(root, root.Bokeh);\n      }if (force === true) {\n        display_loaded();\n      }} else if (Date.now() < root._bokeh_timeout) {\n      setTimeout(run_inline_js, 100);\n    } else if (!root._bokeh_failed_load) {\n      console.log(\"Bokeh: BokehJS failed to load within specified timeout.\");\n      root._bokeh_failed_load = true;\n    } else if (force !== true) {\n      var cell = $(document.getElementById(\"c20ba888-87dd-4657-80c0-de7279717372\")).parents('.cell').data().cell;\n      cell.output_area.append_execute_result(NB_LOAD_WARNING)\n    }\n\n  }\n\n  if (root._bokeh_is_loading === 0) {\n    console.log(\"Bokeh: BokehJS loaded, going straight to plotting\");\n    run_inline_js();\n  } else {\n    load_libs(js_urls, function() {\n      console.log(\"Bokeh: BokehJS plotting callback run at\", now());\n      run_inline_js();\n    });\n  }\n}(window));"
     },
     "metadata": {},
     "output_type": "display_data"
    }
   ],
   "source": [
    "output_notebook()"
   ]
  },
  {
   "cell_type": "markdown",
   "metadata": {},
   "source": [
    "<br>"
   ]
  },
  {
   "cell_type": "markdown",
   "metadata": {},
   "source": [
    "## Code"
   ]
  },
  {
   "cell_type": "code",
   "execution_count": 7,
   "metadata": {},
   "outputs": [
    {
     "data": {
      "text/html": [
       "\n",
       "\n",
       "\n",
       "\n",
       "\n",
       "\n",
       "  <div class=\"bk-root\" id=\"e15893e2-3ff7-47c6-b264-ea830808d778\"></div>\n"
      ]
     },
     "metadata": {},
     "output_type": "display_data"
    },
    {
     "data": {
      "application/javascript": [
       "(function(root) {\n",
       "  function embed_document(root) {\n",
       "    \n",
       "  var docs_json = {\"f44ece31-7d4d-4fbc-b92c-8e22b22ab6ce\":{\"roots\":{\"references\":[{\"attributes\":{\"callback\":null,\"data\":{\"colors\":[\"purple\",\"white\",\"black\",\"black\",\"black\",\"black\",\"white\",\"black\",\"black\",\"black\",\"yellow\",\"yellow\",\"yellow\",\"white\",\"black\",\"black\",\"black\"],\"format\":[\"\",\"\",\".ipynb\",\".html\",\".ipynb\",\".ipynb\",\"\",\".ipynb\",\".ipynb\",\".ipynb\",\".py\",\".py\",\".py\",\"\",\".pyc\",\".pyc\",\".pyc\"],\"index\":[\"D:\\\\Projects\\\\pathwiz\",\"D:\\\\Projects\\\\pathwiz\\\\.ipynb_checkpoints\",\"D:\\\\Projects\\\\pathwiz\\\\demo.ipynb\",\"D:\\\\Projects\\\\pathwiz\\\\interactive_graphs.html\",\"D:\\\\Projects\\\\pathwiz\\\\Network Graphing-Copy1.ipynb\",\"D:\\\\Projects\\\\pathwiz\\\\Network Graphing.ipynb\",\"D:\\\\Projects\\\\pathwiz\\\\pathnet\",\"D:\\\\Projects\\\\pathwiz\\\\.ipynb_checkpoints\\\\demo-checkpoint.ipynb\",\"D:\\\\Projects\\\\pathwiz\\\\.ipynb_checkpoints\\\\Network Graphing-checkpoint.ipynb\",\"D:\\\\Projects\\\\pathwiz\\\\.ipynb_checkpoints\\\\Network Graphing-Copy1-checkpoint.ipynb\",\"D:\\\\Projects\\\\pathwiz\\\\pathnet\\\\backend_mixins.py\",\"D:\\\\Projects\\\\pathwiz\\\\pathnet\\\\pathnet.py\",\"D:\\\\Projects\\\\pathwiz\\\\pathnet\\\\__init__.py\",\"D:\\\\Projects\\\\pathwiz\\\\pathnet\\\\__pycache__\",\"D:\\\\Projects\\\\pathwiz\\\\pathnet\\\\__pycache__\\\\backend_mixins.cpython-36.pyc\",\"D:\\\\Projects\\\\pathwiz\\\\pathnet\\\\__pycache__\\\\pathnet.cpython-36.pyc\",\"D:\\\\Projects\\\\pathwiz\\\\pathnet\\\\__pycache__\\\\__init__.cpython-36.pyc\"],\"name\":[\"D:\\\\Projects\\\\pathwiz\",\".ipynb_checkpoints\",\"demo.ipynb\",\"interactive_graphs.html\",\"Network Graphing-Copy1.ipynb\",\"Network Graphing.ipynb\",\"pathnet\",\"demo-checkpoint.ipynb\",\"Network Graphing-checkpoint.ipynb\",\"Network Graphing-Copy1-checkpoint.ipynb\",\"backend_mixins.py\",\"pathnet.py\",\"__init__.py\",\"__pycache__\",\"backend_mixins.cpython-36.pyc\",\"pathnet.cpython-36.pyc\",\"__init__.cpython-36.pyc\"]},\"selected\":{\"id\":\"02dbae56-52a4-4ff2-acce-9e21a9b59ba6\",\"type\":\"Selection\"},\"selection_policy\":{\"id\":\"a579520c-1b27-4678-ae73-eab96f2bc080\",\"type\":\"UnionRenderers\"}},\"id\":\"679ecb7a-b4da-4bc1-98a3-1f93df3f94b9\",\"type\":\"ColumnDataSource\"},{\"attributes\":{\"data_source\":{\"id\":\"679ecb7a-b4da-4bc1-98a3-1f93df3f94b9\",\"type\":\"ColumnDataSource\"},\"glyph\":{\"id\":\"89c1838f-4514-4d4c-a947-21bb16908733\",\"type\":\"Circle\"},\"hover_glyph\":null,\"muted_glyph\":null,\"view\":{\"id\":\"160f2e9e-a728-4c95-9617-6ef87a707ec5\",\"type\":\"CDSView\"}},\"id\":\"599ff8da-ae17-4efe-9c7f-f9e3209e6949\",\"type\":\"GlyphRenderer\"},{\"attributes\":{\"callback\":null,\"end\":1.1,\"start\":-1.1},\"id\":\"4bdb85d9-5781-4b6b-98e4-a1c7c154388b\",\"type\":\"Range1d\"},{\"attributes\":{\"source\":{\"id\":\"679ecb7a-b4da-4bc1-98a3-1f93df3f94b9\",\"type\":\"ColumnDataSource\"}},\"id\":\"160f2e9e-a728-4c95-9617-6ef87a707ec5\",\"type\":\"CDSView\"},{\"attributes\":{},\"id\":\"5c7300d0-47d1-47f4-875d-4e79d08439e0\",\"type\":\"NodesOnly\"},{\"attributes\":{},\"id\":\"6314c4d3-9ae8-471e-8d36-7e61c8860469\",\"type\":\"MultiLine\"},{\"attributes\":{\"active_drag\":\"auto\",\"active_inspect\":\"auto\",\"active_multi\":null,\"active_scroll\":\"auto\",\"active_tap\":\"auto\",\"tools\":[{\"id\":\"e1fa85de-5f1b-4c52-ba09-62d8e330360a\",\"type\":\"HoverTool\"},{\"id\":\"5a1847c2-682f-44c6-ab9a-24c626e7569d\",\"type\":\"WheelZoomTool\"},{\"id\":\"5f417cc2-c494-4dae-a33a-59f3567dbfa8\",\"type\":\"ResetTool\"},{\"id\":\"074aa6d7-183e-4dea-9f41-4d03f72215d6\",\"type\":\"BoxZoomTool\"}]},\"id\":\"ae27fd24-b610-4504-b9aa-edc1f14b82d2\",\"type\":\"Toolbar\"},{\"attributes\":{},\"id\":\"d17561bb-bee2-43a2-afd1-30d673bcb314\",\"type\":\"Selection\"},{\"attributes\":{\"callback\":null,\"data\":{\"end\":[\"D:\\\\Projects\\\\pathwiz\\\\.ipynb_checkpoints\",\"D:\\\\Projects\\\\pathwiz\\\\demo.ipynb\",\"D:\\\\Projects\\\\pathwiz\\\\interactive_graphs.html\",\"D:\\\\Projects\\\\pathwiz\\\\Network Graphing-Copy1.ipynb\",\"D:\\\\Projects\\\\pathwiz\\\\Network Graphing.ipynb\",\"D:\\\\Projects\\\\pathwiz\\\\pathnet\",\"D:\\\\Projects\\\\pathwiz\",\"D:\\\\Projects\\\\pathwiz\\\\.ipynb_checkpoints\\\\demo-checkpoint.ipynb\",\"D:\\\\Projects\\\\pathwiz\\\\.ipynb_checkpoints\\\\Network Graphing-checkpoint.ipynb\",\"D:\\\\Projects\\\\pathwiz\\\\.ipynb_checkpoints\\\\Network Graphing-Copy1-checkpoint.ipynb\",\"D:\\\\Projects\\\\pathwiz\",\"D:\\\\Projects\\\\pathwiz\",\"D:\\\\Projects\\\\pathwiz\",\"D:\\\\Projects\\\\pathwiz\",\"D:\\\\Projects\\\\pathwiz\",\"D:\\\\Projects\\\\pathwiz\\\\pathnet\\\\backend_mixins.py\",\"D:\\\\Projects\\\\pathwiz\\\\pathnet\\\\pathnet.py\",\"D:\\\\Projects\\\\pathwiz\\\\pathnet\\\\__init__.py\",\"D:\\\\Projects\\\\pathwiz\\\\pathnet\\\\__pycache__\",\"D:\\\\Projects\\\\pathwiz\\\\.ipynb_checkpoints\",\"D:\\\\Projects\\\\pathwiz\\\\.ipynb_checkpoints\",\"D:\\\\Projects\\\\pathwiz\\\\.ipynb_checkpoints\",\"D:\\\\Projects\\\\pathwiz\\\\pathnet\",\"D:\\\\Projects\\\\pathwiz\\\\pathnet\",\"D:\\\\Projects\\\\pathwiz\\\\pathnet\",\"D:\\\\Projects\\\\pathwiz\\\\pathnet\",\"D:\\\\Projects\\\\pathwiz\\\\pathnet\\\\__pycache__\\\\backend_mixins.cpython-36.pyc\",\"D:\\\\Projects\\\\pathwiz\\\\pathnet\\\\__pycache__\\\\pathnet.cpython-36.pyc\",\"D:\\\\Projects\\\\pathwiz\\\\pathnet\\\\__pycache__\\\\__init__.cpython-36.pyc\",\"D:\\\\Projects\\\\pathwiz\\\\pathnet\\\\__pycache__\",\"D:\\\\Projects\\\\pathwiz\\\\pathnet\\\\__pycache__\",\"D:\\\\Projects\\\\pathwiz\\\\pathnet\\\\__pycache__\"],\"start\":[\"D:\\\\Projects\\\\pathwiz\",\"D:\\\\Projects\\\\pathwiz\",\"D:\\\\Projects\\\\pathwiz\",\"D:\\\\Projects\\\\pathwiz\",\"D:\\\\Projects\\\\pathwiz\",\"D:\\\\Projects\\\\pathwiz\",\"D:\\\\Projects\\\\pathwiz\\\\.ipynb_checkpoints\",\"D:\\\\Projects\\\\pathwiz\\\\.ipynb_checkpoints\",\"D:\\\\Projects\\\\pathwiz\\\\.ipynb_checkpoints\",\"D:\\\\Projects\\\\pathwiz\\\\.ipynb_checkpoints\",\"D:\\\\Projects\\\\pathwiz\\\\demo.ipynb\",\"D:\\\\Projects\\\\pathwiz\\\\interactive_graphs.html\",\"D:\\\\Projects\\\\pathwiz\\\\Network Graphing-Copy1.ipynb\",\"D:\\\\Projects\\\\pathwiz\\\\Network Graphing.ipynb\",\"D:\\\\Projects\\\\pathwiz\\\\pathnet\",\"D:\\\\Projects\\\\pathwiz\\\\pathnet\",\"D:\\\\Projects\\\\pathwiz\\\\pathnet\",\"D:\\\\Projects\\\\pathwiz\\\\pathnet\",\"D:\\\\Projects\\\\pathwiz\\\\pathnet\",\"D:\\\\Projects\\\\pathwiz\\\\.ipynb_checkpoints\\\\demo-checkpoint.ipynb\",\"D:\\\\Projects\\\\pathwiz\\\\.ipynb_checkpoints\\\\Network Graphing-checkpoint.ipynb\",\"D:\\\\Projects\\\\pathwiz\\\\.ipynb_checkpoints\\\\Network Graphing-Copy1-checkpoint.ipynb\",\"D:\\\\Projects\\\\pathwiz\\\\pathnet\\\\backend_mixins.py\",\"D:\\\\Projects\\\\pathwiz\\\\pathnet\\\\pathnet.py\",\"D:\\\\Projects\\\\pathwiz\\\\pathnet\\\\__init__.py\",\"D:\\\\Projects\\\\pathwiz\\\\pathnet\\\\__pycache__\",\"D:\\\\Projects\\\\pathwiz\\\\pathnet\\\\__pycache__\",\"D:\\\\Projects\\\\pathwiz\\\\pathnet\\\\__pycache__\",\"D:\\\\Projects\\\\pathwiz\\\\pathnet\\\\__pycache__\",\"D:\\\\Projects\\\\pathwiz\\\\pathnet\\\\__pycache__\\\\backend_mixins.cpython-36.pyc\",\"D:\\\\Projects\\\\pathwiz\\\\pathnet\\\\__pycache__\\\\pathnet.cpython-36.pyc\",\"D:\\\\Projects\\\\pathwiz\\\\pathnet\\\\__pycache__\\\\__init__.cpython-36.pyc\"]},\"selected\":{\"id\":\"d17561bb-bee2-43a2-afd1-30d673bcb314\",\"type\":\"Selection\"},\"selection_policy\":{\"id\":\"03082190-a12c-4b4b-8ba5-2584b83bbcae\",\"type\":\"UnionRenderers\"}},\"id\":\"13ded049-3d74-4c60-a465-af7086f48c53\",\"type\":\"ColumnDataSource\"},{\"attributes\":{\"fill_color\":{\"field\":\"colors\"},\"size\":{\"units\":\"screen\",\"value\":10}},\"id\":\"89c1838f-4514-4d4c-a947-21bb16908733\",\"type\":\"Circle\"},{\"attributes\":{},\"id\":\"11829d74-cfea-4e77-adba-d32600a517fa\",\"type\":\"LinearScale\"},{\"attributes\":{},\"id\":\"583b3aa4-0b8e-415a-a38e-dc5150dba27c\",\"type\":\"NodesOnly\"},{\"attributes\":{\"data_source\":{\"id\":\"13ded049-3d74-4c60-a465-af7086f48c53\",\"type\":\"ColumnDataSource\"},\"glyph\":{\"id\":\"6314c4d3-9ae8-471e-8d36-7e61c8860469\",\"type\":\"MultiLine\"},\"hover_glyph\":null,\"muted_glyph\":null,\"view\":{\"id\":\"65968459-c95f-4511-bd50-45c75ff31e71\",\"type\":\"CDSView\"}},\"id\":\"68c1baf1-8f40-4b22-bbff-bd72f2f8955e\",\"type\":\"GlyphRenderer\"},{\"attributes\":{\"callback\":null,\"end\":1.1,\"start\":-1.1},\"id\":\"6190db86-61c0-4f20-8f5a-a937a4196d43\",\"type\":\"Range1d\"},{\"attributes\":{\"plot_height\":750,\"plot_width\":750,\"renderers\":[{\"id\":\"818502c2-ef41-49a8-b641-a5e35ce619b7\",\"type\":\"BoxAnnotation\"},{\"id\":\"daab408f-f442-4c04-acbb-538b33dc7807\",\"type\":\"GraphRenderer\"}],\"title\":{\"id\":\"5e0c4fe2-aeff-4840-aa30-8b4c6ba2e607\",\"type\":\"Title\"},\"toolbar\":{\"id\":\"ae27fd24-b610-4504-b9aa-edc1f14b82d2\",\"type\":\"Toolbar\"},\"x_range\":{\"id\":\"4bdb85d9-5781-4b6b-98e4-a1c7c154388b\",\"type\":\"Range1d\"},\"x_scale\":{\"id\":\"0271a2c5-2596-4c74-972d-e11ad325000d\",\"type\":\"LinearScale\"},\"y_range\":{\"id\":\"6190db86-61c0-4f20-8f5a-a937a4196d43\",\"type\":\"Range1d\"},\"y_scale\":{\"id\":\"11829d74-cfea-4e77-adba-d32600a517fa\",\"type\":\"LinearScale\"}},\"id\":\"6e86a394-fd65-4d01-af5b-5a79d5b77688\",\"type\":\"Plot\"},{\"attributes\":{\"source\":{\"id\":\"13ded049-3d74-4c60-a465-af7086f48c53\",\"type\":\"ColumnDataSource\"}},\"id\":\"65968459-c95f-4511-bd50-45c75ff31e71\",\"type\":\"CDSView\"},{\"attributes\":{\"plot\":null,\"text\":\"Path Network for D:\\\\Projects\\\\pathwiz\"},\"id\":\"5e0c4fe2-aeff-4840-aa30-8b4c6ba2e607\",\"type\":\"Title\"},{\"attributes\":{\"graph_layout\":{\"D:\\\\Projects\\\\pathwiz\":[-0.014297186438377107,0.2813075652190751],\"D:\\\\Projects\\\\pathwiz\\\\.ipynb_checkpoints\":[0.3405928777151546,0.6447851395149848],\"D:\\\\Projects\\\\pathwiz\\\\.ipynb_checkpoints\\\\Network Graphing-Copy1-checkpoint.ipynb\":[0.6358339567358424,0.6507031236092687],\"D:\\\\Projects\\\\pathwiz\\\\.ipynb_checkpoints\\\\Network Graphing-checkpoint.ipynb\":[0.5580292620771514,0.8654765298271765],\"D:\\\\Projects\\\\pathwiz\\\\.ipynb_checkpoints\\\\demo-checkpoint.ipynb\":[0.34150670810711337,0.9488946089349267],\"D:\\\\Projects\\\\pathwiz\\\\Network Graphing-Copy1.ipynb\":[-0.29946179839372894,0.4092311546994742],\"D:\\\\Projects\\\\pathwiz\\\\Network Graphing.ipynb\":[0.08160751653519561,0.4761542915574358],\"D:\\\\Projects\\\\pathwiz\\\\demo.ipynb\":[-0.1523280264419456,0.556258843737202],\"D:\\\\Projects\\\\pathwiz\\\\interactive_graphs.html\":[-0.2606204284370927,0.19869808701406158],\"D:\\\\Projects\\\\pathwiz\\\\pathnet\":[-0.03861494211354413,-0.27909963124225934],\"D:\\\\Projects\\\\pathwiz\\\\pathnet\\\\__init__.py\":[-0.08415728297937797,-0.4883769228811883],\"D:\\\\Projects\\\\pathwiz\\\\pathnet\\\\__pycache__\":[-0.2901196228214585,-0.714376130742678],\"D:\\\\Projects\\\\pathwiz\\\\pathnet\\\\__pycache__\\\\__init__.cpython-36.pyc\":[-0.21075198967622877,-1.0],\"D:\\\\Projects\\\\pathwiz\\\\pathnet\\\\__pycache__\\\\backend_mixins.cpython-36.pyc\":[-0.43854440475097745,-0.9855822703280718],\"D:\\\\Projects\\\\pathwiz\\\\pathnet\\\\__pycache__\\\\pathnet.cpython-36.pyc\":[-0.5738793412025535,-0.7995164710639963],\"D:\\\\Projects\\\\pathwiz\\\\pathnet\\\\backend_mixins.py\":[0.17490694066999848,-0.4887054461220532],\"D:\\\\Projects\\\\pathwiz\\\\pathnet\\\\pathnet.py\":[0.2302977614148287,-0.27585247173335814]}},\"id\":\"afc1722b-2a28-4b43-bed8-a8433b0dc3bd\",\"type\":\"StaticLayoutProvider\"},{\"attributes\":{\"bottom_units\":\"screen\",\"fill_alpha\":{\"value\":0.5},\"fill_color\":{\"value\":\"lightgrey\"},\"left_units\":\"screen\",\"level\":\"overlay\",\"line_alpha\":{\"value\":1.0},\"line_color\":{\"value\":\"black\"},\"line_dash\":[4,4],\"line_width\":{\"value\":2},\"plot\":null,\"render_mode\":\"css\",\"right_units\":\"screen\",\"top_units\":\"screen\"},\"id\":\"818502c2-ef41-49a8-b641-a5e35ce619b7\",\"type\":\"BoxAnnotation\"},{\"attributes\":{\"callback\":null,\"renderers\":\"auto\",\"tooltips\":[[\"name\",\"@name\"],[\"format\",\"@format\"]]},\"id\":\"e1fa85de-5f1b-4c52-ba09-62d8e330360a\",\"type\":\"HoverTool\"},{\"attributes\":{},\"id\":\"0271a2c5-2596-4c74-972d-e11ad325000d\",\"type\":\"LinearScale\"},{\"attributes\":{},\"id\":\"5a1847c2-682f-44c6-ab9a-24c626e7569d\",\"type\":\"WheelZoomTool\"},{\"attributes\":{},\"id\":\"5f417cc2-c494-4dae-a33a-59f3567dbfa8\",\"type\":\"ResetTool\"},{\"attributes\":{\"overlay\":{\"id\":\"818502c2-ef41-49a8-b641-a5e35ce619b7\",\"type\":\"BoxAnnotation\"}},\"id\":\"074aa6d7-183e-4dea-9f41-4d03f72215d6\",\"type\":\"BoxZoomTool\"},{\"attributes\":{\"edge_renderer\":{\"id\":\"68c1baf1-8f40-4b22-bbff-bd72f2f8955e\",\"type\":\"GlyphRenderer\"},\"inspection_policy\":{\"id\":\"5c7300d0-47d1-47f4-875d-4e79d08439e0\",\"type\":\"NodesOnly\"},\"layout_provider\":{\"id\":\"afc1722b-2a28-4b43-bed8-a8433b0dc3bd\",\"type\":\"StaticLayoutProvider\"},\"node_renderer\":{\"id\":\"599ff8da-ae17-4efe-9c7f-f9e3209e6949\",\"type\":\"GlyphRenderer\"},\"selection_policy\":{\"id\":\"583b3aa4-0b8e-415a-a38e-dc5150dba27c\",\"type\":\"NodesOnly\"}},\"id\":\"daab408f-f442-4c04-acbb-538b33dc7807\",\"type\":\"GraphRenderer\"},{\"attributes\":{},\"id\":\"a579520c-1b27-4678-ae73-eab96f2bc080\",\"type\":\"UnionRenderers\"},{\"attributes\":{},\"id\":\"02dbae56-52a4-4ff2-acce-9e21a9b59ba6\",\"type\":\"Selection\"},{\"attributes\":{},\"id\":\"03082190-a12c-4b4b-8ba5-2584b83bbcae\",\"type\":\"UnionRenderers\"}],\"root_ids\":[\"6e86a394-fd65-4d01-af5b-5a79d5b77688\"]},\"title\":\"Bokeh Application\",\"version\":\"0.13.0\"}};\n",
       "  var render_items = [{\"docid\":\"f44ece31-7d4d-4fbc-b92c-8e22b22ab6ce\",\"roots\":{\"6e86a394-fd65-4d01-af5b-5a79d5b77688\":\"e15893e2-3ff7-47c6-b264-ea830808d778\"}}];\n",
       "  root.Bokeh.embed.embed_items_notebook(docs_json, render_items);\n",
       "\n",
       "  }\n",
       "  if (root.Bokeh !== undefined) {\n",
       "    embed_document(root);\n",
       "  } else {\n",
       "    var attempts = 0;\n",
       "    var timer = setInterval(function(root) {\n",
       "      if (root.Bokeh !== undefined) {\n",
       "        embed_document(root);\n",
       "        clearInterval(timer);\n",
       "      }\n",
       "      attempts++;\n",
       "      if (attempts > 100) {\n",
       "        console.log(\"Bokeh: ERROR: Unable to run BokehJS code because BokehJS library is missing\")\n",
       "        clearInterval(timer);\n",
       "      }\n",
       "    }, 10, root)\n",
       "  }\n",
       "})(window);"
      ],
      "application/vnd.bokehjs_exec.v0+json": ""
     },
     "metadata": {
      "application/vnd.bokehjs_exec.v0+json": {
       "id": "6e86a394-fd65-4d01-af5b-5a79d5b77688"
      }
     },
     "output_type": "display_data"
    }
   ],
   "source": [
    "PathNet(r\"D:\\Projects\\pathwiz\").plot(\"bokeh\", show=True)\n",
    "#show(plot)"
   ]
  },
  {
   "cell_type": "code",
   "execution_count": 8,
   "metadata": {},
   "outputs": [
    {
     "data": {
      "image/png": "[encoded data removed]",
      "text/plain": [
       "<Figure size 720x720 with 1 Axes>"
      ]
     },
     "metadata": {},
     "output_type": "display_data"
    }
   ],
   "source": [
    "PathNet(r\"D:\\Projects\\pathwiz\").plot(show=True)"
   ]
  },
  {
   "cell_type": "code",
   "execution_count": null,
   "metadata": {},
   "outputs": [],
   "source": []
  }
 ],
 "metadata": {
  "kernelspec": {
   "display_name": "Python [default]",
   "language": "python",
   "name": "python3"
  },
  "language_info": {
   "codemirror_mode": {
    "name": "ipython",
    "version": 3
   },
   "file_extension": ".py",
   "mimetype": "text/x-python",
   "name": "python",
   "nbconvert_exporter": "python",
   "pygments_lexer": "ipython3",
   "version": "3.6.6"
  }
 },
 "nbformat": 4,
 "nbformat_minor": 2
}
